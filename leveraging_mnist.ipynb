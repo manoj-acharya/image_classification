{
 "cells": [
  {
   "cell_type": "code",
   "execution_count": 1,
   "id": "7a4351d5",
   "metadata": {},
   "outputs": [],
   "source": [
    "import tensorflow as tf\n",
    "import matplotlib.pyplot as plt\n",
    "import numpy as np\n"
   ]
  },
  {
   "cell_type": "code",
   "execution_count": 2,
   "id": "72f2e71d",
   "metadata": {},
   "outputs": [
    {
     "data": {
      "text/plain": [
       "'2.10.0'"
      ]
     },
     "execution_count": 2,
     "metadata": {},
     "output_type": "execute_result"
    }
   ],
   "source": [
    "tf.__version__"
   ]
  },
  {
   "cell_type": "code",
   "execution_count": 5,
   "id": "e3497400",
   "metadata": {},
   "outputs": [
    {
     "data": {
      "text/plain": [
       "1"
      ]
     },
     "execution_count": 5,
     "metadata": {},
     "output_type": "execute_result"
    }
   ],
   "source": [
    "len(tf.config.list_physical_devices('GPU'))"
   ]
  },
  {
   "cell_type": "code",
   "execution_count": 1,
   "id": "9527ec74",
   "metadata": {},
   "outputs": [
    {
     "data": {
      "image/jpeg": "[encoded data removed]",
      "text/html": [
       "\n",
       "        <iframe\n",
       "            width=\"400\"\n",
       "            height=\"300\"\n",
       "            src=\"https://www.youtube.com/embed/cNxadbrN_aI\"\n",
       "            frameborder=\"0\"\n",
       "            allowfullscreen\n",
       "            \n",
       "        ></iframe>\n",
       "        "
      ],
      "text/plain": [
       "<IPython.lib.display.YouTubeVideo at 0x21ebd4e2c20>"
      ]
     },
     "execution_count": 1,
     "metadata": {},
     "output_type": "execute_result"
    }
   ],
   "source": [
    "from IPython.display import YouTubeVideo\n",
    "YouTubeVideo('cNxadbrN_aI')"
   ]
  },
  {
   "cell_type": "code",
   "execution_count": 2,
   "id": "b3c30471",
   "metadata": {},
   "outputs": [],
   "source": [
    "fashion_mnist=tf.keras.datasets.fashion_mnist"
   ]
  },
  {
   "cell_type": "code",
   "execution_count": 3,
   "id": "4df755e3",
   "metadata": {},
   "outputs": [],
   "source": [
    "(x_train, y_train), (x_test, y_test) = fashion_mnist.load_data()"
   ]
  },
  {
   "cell_type": "code",
   "execution_count": 4,
   "id": "043ebddf",
   "metadata": {},
   "outputs": [
    {
     "name": "stdout",
     "output_type": "stream",
     "text": [
      "x_train shape: (60000, 28, 28)\n",
      "y_train shape: (60000,)\n",
      "x_test shape: (10000, 28, 28)\n",
      "y_test shape: (10000,)\n"
     ]
    }
   ],
   "source": [
    "print(f\"x_train shape: {x_train.shape}\")\n",
    "print(f\"y_train shape: {y_train.shape}\")\n",
    "print(f\"x_test shape: {x_test.shape}\")\n",
    "print(f\"y_test shape: {y_test.shape}\")"
   ]
  },
  {
   "cell_type": "markdown",
   "id": "10da7dd8",
   "metadata": {},
   "source": [
    "This is a dataset of 60,000 28x28 grayscale images of 10 fashion categories,\n",
    "along with a test set of 10,000 images. This dataset can be used as\n",
    "a drop-in replacement for MNIST.\n",
    "\n",
    "The classes are:\n",
    "\n",
    "| Label | Description |\n",
    "|:-----:|-------------|\n",
    "|   0   | T-shirt/top |\n",
    "|   1   | Trouser     |\n",
    "|   2   | Pullover    |\n",
    "|   3   | Dress       |\n",
    "|   4   | Coat        |\n",
    "|   5   | Sandal      |\n",
    "|   6   | Shirt       |\n",
    "|   7   | Sneaker     |\n",
    "|   8   | Bag         |\n",
    "|   9   | Ankle boot  |"
   ]
  },
  {
   "cell_type": "code",
   "execution_count": 5,
   "id": "eadf9862",
   "metadata": {},
   "outputs": [
    {
     "data": {
      "text/plain": [
       "<matplotlib.image.AxesImage at 0x1691d63bfd0>"
      ]
     },
     "execution_count": 5,
     "metadata": {},
     "output_type": "execute_result"
    },
    {
     "data": {
      "image/png": "[encoded data removed]",
      "text/plain": [
       "<Figure size 640x480 with 1 Axes>"
      ]
     },
     "metadata": {},
     "output_type": "display_data"
    }
   ],
   "source": [
    "#x_train[0]\n",
    "plt.figure()\n",
    "plt.imshow(x_train[0], cmap='gray')"
   ]
  },
  {
   "cell_type": "code",
   "execution_count": 6,
   "id": "0ba40a46",
   "metadata": {},
   "outputs": [
    {
     "data": {
      "text/plain": [
       "9"
      ]
     },
     "execution_count": 6,
     "metadata": {},
     "output_type": "execute_result"
    }
   ],
   "source": [
    "y_train[0]"
   ]
  },
  {
   "cell_type": "code",
   "execution_count": null,
   "id": "749b91ad",
   "metadata": {},
   "outputs": [],
   "source": []
  },
  {
   "cell_type": "code",
   "execution_count": null,
   "id": "b86eaf41",
   "metadata": {},
   "outputs": [],
   "source": []
  },
  {
   "cell_type": "code",
   "execution_count": 7,
   "id": "b1ccbfad",
   "metadata": {},
   "outputs": [
    {
     "ename": "NameError",
     "evalue": "name 'data_idx' is not defined",
     "output_type": "error",
     "traceback": [
      "\u001b[1;31m---------------------------------------------------------------------------\u001b[0m",
      "\u001b[1;31mNameError\u001b[0m                                 Traceback (most recent call last)",
      "Cell \u001b[1;32mIn [7], line 1\u001b[0m\n\u001b[1;32m----> 1\u001b[0m y_train[\u001b[43mdata_idx\u001b[49m]\n",
      "\u001b[1;31mNameError\u001b[0m: name 'data_idx' is not defined"
     ]
    }
   ],
   "source": [
    "y_train[data_idx]"
   ]
  },
  {
   "cell_type": "code",
   "execution_count": 7,
   "id": "f258a699",
   "metadata": {},
   "outputs": [
    {
     "data": {
      "text/plain": [
       "array([0, 1, 2, 3, 4, 5, 6, 7, 8, 9], dtype=uint8)"
      ]
     },
     "execution_count": 7,
     "metadata": {},
     "output_type": "execute_result"
    }
   ],
   "source": [
    "np.unique(y_train)"
   ]
  },
  {
   "cell_type": "code",
   "execution_count": null,
   "id": "0451ea50",
   "metadata": {},
   "outputs": [],
   "source": []
  },
  {
   "cell_type": "code",
   "execution_count": 8,
   "id": "50c55c6e",
   "metadata": {},
   "outputs": [],
   "source": [
    "no_of_classes=y_train.max()+1"
   ]
  },
  {
   "cell_type": "code",
   "execution_count": 9,
   "id": "d418027f",
   "metadata": {},
   "outputs": [],
   "source": [
    "model = tf.keras.Sequential([\n",
    "    tf.keras.layers.Flatten(input_shape=(28, 28)),\n",
    "    tf.keras.layers.Dense(no_of_classes)\n",
    "])"
   ]
  },
  {
   "cell_type": "code",
   "execution_count": 10,
   "id": "b0fc06ba",
   "metadata": {},
   "outputs": [
    {
     "name": "stdout",
     "output_type": "stream",
     "text": [
      "Model: \"sequential\"\n",
      "_________________________________________________________________\n",
      " Layer (type)                Output Shape              Param #   \n",
      "=================================================================\n",
      " flatten (Flatten)           (None, 784)               0         \n",
      "                                                                 \n",
      " dense (Dense)               (None, 10)                7850      \n",
      "                                                                 \n",
      "=================================================================\n",
      "Total params: 7,850\n",
      "Trainable params: 7,850\n",
      "Non-trainable params: 0\n",
      "_________________________________________________________________\n"
     ]
    }
   ],
   "source": [
    "model.summary()"
   ]
  },
  {
   "cell_type": "code",
   "execution_count": null,
   "id": "cfae8711",
   "metadata": {},
   "outputs": [],
   "source": []
  },
  {
   "cell_type": "code",
   "execution_count": 9,
   "id": "c09a1073",
   "metadata": {},
   "outputs": [
    {
     "data": {
      "text/plain": [
       "7840"
      ]
     },
     "execution_count": 9,
     "metadata": {},
     "output_type": "execute_result"
    }
   ],
   "source": [
    "image_height = 28\n",
    "image_width = 28\n",
    "\n",
    "number_of_weights = image_height * image_width * no_of_classes\n",
    "number_of_weights"
   ]
  },
  {
   "cell_type": "code",
   "execution_count": 13,
   "id": "d292b10d",
   "metadata": {},
   "outputs": [
    {
     "name": "stdout",
     "output_type": "stream",
     "text": [
      "You must install pydot (`pip install pydot`) and install graphviz (see instructions at https://graphviz.gitlab.io/download/) for plot_model to work.\n"
     ]
    }
   ],
   "source": [
    "tf.keras.utils.plot_model(model, show_shapes=True)"
   ]
  },
  {
   "cell_type": "code",
   "execution_count": 11,
   "id": "66dbd123",
   "metadata": {},
   "outputs": [],
   "source": [
    "model.compile(optimizer='adam',\n",
    "              loss=tf.keras.losses.SparseCategoricalCrossentropy(from_logits=True),\n",
    "              metrics=['accuracy'])"
   ]
  },
  {
   "cell_type": "code",
   "execution_count": 12,
   "id": "37a07a97",
   "metadata": {},
   "outputs": [
    {
     "name": "stdout",
     "output_type": "stream",
     "text": [
      "Epoch 1/5\n",
      "1875/1875 [==============================] - 10s 4ms/step - loss: 16.9190 - accuracy: 0.7463 - val_loss: 15.2122 - val_accuracy: 0.7598\n",
      "Epoch 2/5\n",
      "1875/1875 [==============================] - 7s 4ms/step - loss: 11.8091 - accuracy: 0.7908 - val_loss: 13.1507 - val_accuracy: 0.7868\n",
      "Epoch 3/5\n",
      "1875/1875 [==============================] - 7s 4ms/step - loss: 11.0985 - accuracy: 0.7951 - val_loss: 11.5339 - val_accuracy: 0.7934\n",
      "Epoch 4/5\n",
      "1875/1875 [==============================] - 7s 4ms/step - loss: 11.4022 - accuracy: 0.7996 - val_loss: 13.8234 - val_accuracy: 0.7682\n",
      "Epoch 5/5\n",
      "1875/1875 [==============================] - 7s 4ms/step - loss: 10.5881 - accuracy: 0.8017 - val_loss: 13.9304 - val_accuracy: 0.7686\n"
     ]
    }
   ],
   "source": [
    "history = model.fit(\n",
    "    x_train,\n",
    "    y_train,\n",
    "    epochs=5,\n",
    "    verbose=True,\n",
    "    validation_data=(x_test, y_test)\n",
    ")"
   ]
  },
  {
   "cell_type": "code",
   "execution_count": 13,
   "id": "649863f8",
   "metadata": {},
   "outputs": [
    {
     "name": "stdout",
     "output_type": "stream",
     "text": [
      "1/1 [==============================] - 0s 96ms/step\n"
     ]
    },
    {
     "data": {
      "text/plain": [
       "array([[ -123.056435,  -411.39294 ,   -64.778404,  -184.9442  ,\n",
       "         -272.39896 ,   367.52512 ,   -12.844068,   428.2602  ,\n",
       "          170.13629 ,   816.5316  ],\n",
       "       [  499.67163 ,  -183.48576 ,   361.446   ,   189.78812 ,\n",
       "          -20.328827, -1236.2986  ,   359.75467 , -1521.8971  ,\n",
       "          -29.710928,  -817.24646 ],\n",
       "       [   79.35039 ,    62.688198,    84.560974,   129.81212 ,\n",
       "           63.855713,  -451.58463 ,    86.20721 ,  -486.40457 ,\n",
       "          -28.099688,  -299.2854  ],\n",
       "       [  204.72107 ,   139.05315 ,   192.69818 ,   245.29944 ,\n",
       "           84.17241 ,  -804.164   ,   201.65796 ,  -926.4867  ,\n",
       "          -21.856337,  -677.8334  ],\n",
       "       [  122.03262 ,   177.90814 ,   107.12793 ,   180.73962 ,\n",
       "           65.45615 ,  -915.4605  ,    83.082   ,  -770.3711  ,\n",
       "          -26.812632,  -801.74805 ],\n",
       "       [  299.41647 ,   113.437416,   519.9837  ,   193.66724 ,\n",
       "          236.87685 ,  -822.34564 ,   343.22302 , -1394.668   ,\n",
       "           97.42772 , -1053.6344  ],\n",
       "       [  -59.236584,  -234.1674  ,   -52.643642,     9.349298,\n",
       "         -179.67169 ,   216.39925 ,   -90.89096 ,   262.97592 ,\n",
       "          106.04471 ,   188.34859 ],\n",
       "       [  345.43164 ,    89.10606 ,   502.93402 ,    86.86164 ,\n",
       "          366.7299  , -1030.7085  ,   321.50113 , -1548.5387  ,\n",
       "          113.8878  ,  -609.3636  ],\n",
       "       [   19.084015,  -334.2802  ,   -76.74362 ,  -127.722404,\n",
       "         -250.04968 ,   428.3839  ,   -81.10621 ,    65.6404  ,\n",
       "          -29.069998,   317.5513  ],\n",
       "       [  -77.48758 ,  -262.84775 ,    19.200119,    16.538452,\n",
       "         -148.93236 ,   719.9811  ,   -25.224771,  -185.77348 ,\n",
       "           92.99629 ,   249.72798 ]], dtype=float32)"
      ]
     },
     "execution_count": 13,
     "metadata": {},
     "output_type": "execute_result"
    }
   ],
   "source": [
    "model.predict(x_train[0:10])"
   ]
  },
  {
   "cell_type": "code",
   "execution_count": 26,
   "id": "f476e03c",
   "metadata": {},
   "outputs": [
    {
     "data": {
      "image/png": "[encoded data removed]",
      "text/plain": [
       "<Figure size 640x480 with 2 Axes>"
      ]
     },
     "metadata": {},
     "output_type": "display_data"
    },
    {
     "name": "stdout",
     "output_type": "stream",
     "text": [
      "1/1 [==============================] - 0s 27ms/step\n"
     ]
    },
    {
     "data": {
      "image/png": "[encoded data removed]",
      "text/plain": [
       "<Figure size 640x480 with 1 Axes>"
      ]
     },
     "metadata": {},
     "output_type": "display_data"
    },
    {
     "name": "stdout",
     "output_type": "stream",
     "text": [
      "correct answer: 6\n"
     ]
    }
   ],
   "source": [
    "data_idx = 8675 # The question number to study with. Feel free to change up to 59999.\n",
    "\n",
    "plt.figure()\n",
    "plt.imshow(x_train[data_idx], cmap='gray')\n",
    "plt.colorbar()\n",
    "plt.grid(False)\n",
    "plt.show()\n",
    "\n",
    "x_values = range(no_of_classes)\n",
    "plt.figure()\n",
    "plt.bar(x_values, model.predict(x_train[data_idx:data_idx+1]).flatten())\n",
    "plt.xticks(range(10))\n",
    "plt.show()\n",
    "\n",
    "print(\"correct answer:\", y_train[data_idx])"
   ]
  },
  {
   "cell_type": "code",
   "execution_count": 14,
   "id": "a9529dc0",
   "metadata": {},
   "outputs": [
    {
     "name": "stdout",
     "output_type": "stream",
     "text": [
      "1/1 [==============================] - 0s 78ms/step\n"
     ]
    }
   ],
   "source": [
    "pred_0=model.predict(x_test[0])"
   ]
  },
  {
   "cell_type": "code",
   "execution_count": 15,
   "id": "ca010596",
   "metadata": {},
   "outputs": [
    {
     "data": {
      "text/plain": [
       "9"
      ]
     },
     "execution_count": 15,
     "metadata": {},
     "output_type": "execute_result"
    }
   ],
   "source": [
    "np.argmax(pred_0)"
   ]
  },
  {
   "cell_type": "code",
   "execution_count": 16,
   "id": "c2d365aa",
   "metadata": {},
   "outputs": [
    {
     "data": {
      "text/plain": [
       "<matplotlib.image.AxesImage at 0x169607c7a90>"
      ]
     },
     "execution_count": 16,
     "metadata": {},
     "output_type": "execute_result"
    },
    {
     "data": {
      "image/png": "[encoded data removed]",
      "text/plain": [
       "<Figure size 640x480 with 1 Axes>"
      ]
     },
     "metadata": {},
     "output_type": "display_data"
    }
   ],
   "source": [
    "plt.figure()\n",
    "plt.imshow(x_test[0], cmap='gray')"
   ]
  },
  {
   "cell_type": "code",
   "execution_count": 17,
   "id": "e402804f",
   "metadata": {},
   "outputs": [
    {
     "data": {
      "text/plain": [
       "9"
      ]
     },
     "execution_count": 17,
     "metadata": {},
     "output_type": "execute_result"
    }
   ],
   "source": [
    "y_test[0]"
   ]
  },
  {
   "cell_type": "code",
   "execution_count": 23,
   "id": "46c8956a",
   "metadata": {},
   "outputs": [
    {
     "data": {
      "text/plain": [
       "<matplotlib.image.AxesImage at 0x26800576ef0>"
      ]
     },
     "execution_count": 23,
     "metadata": {},
     "output_type": "execute_result"
    },
    {
     "data": {
      "image/png": "[encoded data removed]",
      "text/plain": [
       "<Figure size 640x480 with 1 Axes>"
      ]
     },
     "metadata": {},
     "output_type": "display_data"
    }
   ],
   "source": [
    "plt.figure()\n",
    "plt.imshow(x_test[10], cmap='gray')"
   ]
  },
  {
   "cell_type": "code",
   "execution_count": 24,
   "id": "5a606f21",
   "metadata": {},
   "outputs": [
    {
     "data": {
      "text/plain": [
       "4"
      ]
     },
     "execution_count": 24,
     "metadata": {},
     "output_type": "execute_result"
    }
   ],
   "source": [
    "y_test[10]"
   ]
  },
  {
   "cell_type": "code",
   "execution_count": 18,
   "id": "764204b7",
   "metadata": {},
   "outputs": [
    {
     "name": "stdout",
     "output_type": "stream",
     "text": [
      "1/1 [==============================] - 0s 31ms/step\n"
     ]
    },
    {
     "data": {
      "text/plain": [
       "array([[  158.08742 ,   142.83853 ,   289.47586 ,   165.27283 ,\n",
       "          264.68857 ,  -585.33826 ,   265.0624  , -1179.9822  ,\n",
       "           41.221596,  -777.75385 ]], dtype=float32)"
      ]
     },
     "execution_count": 18,
     "metadata": {},
     "output_type": "execute_result"
    }
   ],
   "source": [
    "model.predict(x_test[10])"
   ]
  },
  {
   "cell_type": "code",
   "execution_count": 12,
   "id": "508ca7d6",
   "metadata": {},
   "outputs": [
    {
     "name": "stdout",
     "output_type": "stream",
     "text": [
      "313/313 [==============================] - 1s 4ms/step - loss: 10.3895 - accuracy: 0.8101\n",
      "Test loss: 10.389466285705566\n",
      "Test accuracy: 0.8101000189781189\n"
     ]
    }
   ],
   "source": [
    "# evaluating....\n",
    "score=model.evaluate(x_test, y_test)\n",
    "print(\"Test loss:\", score[0])\n",
    "print(\"Test accuracy:\", score[1])"
   ]
  },
  {
   "cell_type": "code",
   "execution_count": 13,
   "id": "316da80d",
   "metadata": {},
   "outputs": [
    {
     "name": "stdout",
     "output_type": "stream",
     "text": [
      "313/313 [==============================] - 1s 2ms/step\n"
     ]
    },
    {
     "data": {
      "text/plain": [
       "array([[ -186.60925 ,  -310.46875 ,   -61.556618, ...,   147.95396 ,\n",
       "          130.42227 ,   275.70074 ],\n",
       "       [  148.23679 ,  -240.02611 ,   297.45337 , ..., -1720.4022  ,\n",
       "          108.74647 , -1257.5194  ],\n",
       "       [  174.34248 ,   408.87155 ,    77.13401 , ...,  -773.57886 ,\n",
       "           16.30954 ,  -579.84625 ],\n",
       "       ...,\n",
       "       [  141.23492 ,  -277.63046 ,    49.161724, ...,  -384.01904 ,\n",
       "          168.44046 ,  -537.5911  ],\n",
       "       [  104.00263 ,   441.98923 ,    89.02114 , ...,  -640.0967  ,\n",
       "         -101.30398 ,  -128.82736 ],\n",
       "       [ -124.91235 ,  -153.62914 ,   -39.37466 , ...,    68.0502  ,\n",
       "           95.24137 ,   -48.990555]], dtype=float32)"
      ]
     },
     "execution_count": 13,
     "metadata": {},
     "output_type": "execute_result"
    }
   ],
   "source": [
    "y_pred=model.predict(x_test)\n",
    "y_pred"
   ]
  },
  {
   "cell_type": "code",
   "execution_count": 15,
   "id": "b832d8ac",
   "metadata": {},
   "outputs": [
    {
     "data": {
      "text/plain": [
       "(10000, 10)"
      ]
     },
     "execution_count": 15,
     "metadata": {},
     "output_type": "execute_result"
    }
   ],
   "source": [
    "y_pred.shape"
   ]
  },
  {
   "cell_type": "code",
   "execution_count": null,
   "id": "12cac363",
   "metadata": {},
   "outputs": [],
   "source": []
  },
  {
   "cell_type": "code",
   "execution_count": null,
   "id": "0f054171",
   "metadata": {},
   "outputs": [],
   "source": []
  }
 ],
 "metadata": {
  "kernelspec": {
   "display_name": "Python 3 (ipykernel)",
   "language": "python",
   "name": "python3"
  },
  "language_info": {
   "codemirror_mode": {
    "name": "ipython",
    "version": 3
   },
   "file_extension": ".py",
   "mimetype": "text/x-python",
   "name": "python",
   "nbconvert_exporter": "python",
   "pygments_lexer": "ipython3",
   "version": "3.10.7"
  }
 },
 "nbformat": 4,
 "nbformat_minor": 5
}
